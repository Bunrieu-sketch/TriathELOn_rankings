{
 "cells": [
  {
   "cell_type": "markdown",
   "metadata": {},
   "source": [
    "### 2010 Data extraction (API) notebook "
   ]
  },
  {
   "cell_type": "code",
   "execution_count": 1,
   "metadata": {},
   "outputs": [],
   "source": [
    "import requests\n",
    "import pandas as pd\n",
    "import os\n",
    "from collections import defaultdict"
   ]
  },
  {
   "cell_type": "markdown",
   "metadata": {},
   "source": [
    "In order to access the race results from the 2010 WTS season, the ITU triathlon API needed to be queried and parsed appropriately. The API has both a `results` and an `events` endpoint. \n",
    "- In order to get a results sheet from the `results` API, you need the specific `event ID` and `program ID` for each race.\n",
    "\n",
    "- This will take multiple separate calls, first to find the event ID's, and then the program ID's, and then match them all together to query for race results"
   ]
  },
  {
   "cell_type": "markdown",
   "metadata": {},
   "source": [
    "#### API call for event ID's of all 2010 WTS races"
   ]
  },
  {
   "cell_type": "code",
   "execution_count": 6,
   "metadata": {},
   "outputs": [],
   "source": [
    "password = os.environ['ITU_API']\n",
    "\n",
    "# THIS GIVES EVENT ID\n",
    "url = \"https://api.triathlon.org/v1/events?category_id=351&start_date=2010-01-01&end_date=2010-12-31\"\n",
    "\n",
    "headers = {'apikey': password}\n",
    "\n",
    "response = requests.request(\"GET\", url, headers=headers)\n",
    "\n",
    "races_2010 = (response.json())['data']"
   ]
  },
  {
   "cell_type": "markdown",
   "metadata": {},
   "source": [
    "__Each race with associated event ID__"
   ]
  },
  {
   "cell_type": "code",
   "execution_count": 7,
   "metadata": {},
   "outputs": [
    {
     "data": {
      "text/plain": [
       "defaultdict(list,\n",
       "            {'2010 Dextro Energy Triathlon - ITU World Championship Series Sydney': [34488],\n",
       "             '2010 Dextro Energy Triathlon - ITU World Championship Series Seoul': [34489],\n",
       "             '2010 Dextro Energy Triathlon - ITU World Championship Series Madrid': [34490],\n",
       "             '2010 Dextro Energy Triathlon - ITU World Championship Series Hamburg': [34491],\n",
       "             '2010 Dextro Energy Triathlon - ITU World Championship Series London': [34492],\n",
       "             '2010 Dextro Energy Triathlon - ITU World Championship Series Kitzbuehel': [34493],\n",
       "             '2010 Dextro Energy Triathlon - ITU Triathlon World Championship Grand Final Budapest': [4990]})"
      ]
     },
     "execution_count": 7,
     "metadata": {},
     "output_type": "execute_result"
    }
   ],
   "source": [
    "season_2010 = defaultdict(list)\n",
    "for race in races_2010:\n",
    "    season_2010[race['event_title']].append(race['event_id'])\n",
    "\n",
    "season_2010"
   ]
  },
  {
   "cell_type": "markdown",
   "metadata": {},
   "source": [
    "__Finding the program ID's and link back to the event ID's above__"
   ]
  },
  {
   "cell_type": "code",
   "execution_count": 8,
   "metadata": {},
   "outputs": [],
   "source": [
    "# THIS GIVES PROGRAM ID for ALL WTS races\n",
    "url = \"https://api.triathlon.org/v1/statistics/results?analysis=count_unique&target_property=event.name&group_by=event.name|program.id|program.name\"\n",
    "headers = {'apikey': password}\n",
    "response = requests.request(\"GET\", url, headers=headers)\n",
    "all_events  = response.json()['data']['result']"
   ]
  },
  {
   "cell_type": "markdown",
   "metadata": {},
   "source": [
    "__Each race with associated `event ID` AND `program ID`__"
   ]
  },
  {
   "cell_type": "code",
   "execution_count": 9,
   "metadata": {},
   "outputs": [
    {
     "data": {
      "text/plain": [
       "defaultdict(list,\n",
       "            {'2010 Dextro Energy Triathlon - ITU World Championship Series Sydney': [34488,\n",
       "              5542,\n",
       "              5543],\n",
       "             '2010 Dextro Energy Triathlon - ITU World Championship Series Seoul': [34489,\n",
       "              5589,\n",
       "              5590],\n",
       "             '2010 Dextro Energy Triathlon - ITU World Championship Series Madrid': [34490,\n",
       "              5611,\n",
       "              5612],\n",
       "             '2010 Dextro Energy Triathlon - ITU World Championship Series Hamburg': [34491,\n",
       "              5687,\n",
       "              5688],\n",
       "             '2010 Dextro Energy Triathlon - ITU World Championship Series London': [34492,\n",
       "              5693,\n",
       "              5984],\n",
       "             '2010 Dextro Energy Triathlon - ITU World Championship Series Kitzbuehel': [34493,\n",
       "              5702,\n",
       "              5703],\n",
       "             '2010 Dextro Energy Triathlon - ITU Triathlon World Championship Grand Final Budapest': [4990,\n",
       "              5859,\n",
       "              5860]})"
      ]
     },
     "execution_count": 9,
     "metadata": {},
     "output_type": "execute_result"
    }
   ],
   "source": [
    "for event in all_events:\n",
    "    if (event['event.name']) in season_2010.keys():\n",
    "        season_2010[event['event.name']].append(event['program.id'])\n",
    "season_2010"
   ]
  },
  {
   "cell_type": "markdown",
   "metadata": {},
   "source": [
    "#### For each race have the program ID and event ID, use that to query and parse the results API"
   ]
  },
  {
   "cell_type": "code",
   "execution_count": 10,
   "metadata": {},
   "outputs": [],
   "source": [
    "race_list = list()\n",
    "# get the results each race in our season_2010\n",
    "for keys, values in season_2010.items():\n",
    "    string = keys\n",
    "    for program_ids in values[1:]:\n",
    "        url = f\"https://api.triathlon.org/v1/events/{values[0]}/programs/{program_ids}/results\"\n",
    "        response = requests.request(\"GET\", url, headers=headers)\n",
    "        race_result = response.json()['data']['results']\n",
    "        # turn the dict into a df\n",
    "        race = defaultdict(list)\n",
    "\n",
    "        for athlete in race_result:\n",
    "            race['program_id'].append(program_ids)\n",
    "            race['athlete_id'].append(athlete['athlete_id'])\n",
    "            race['athlete_first'].append(athlete['athlete_first'])\n",
    "            race['athlete_last'].append(athlete['athlete_last'])\n",
    "            race['nationality'].append(athlete['athlete_noc'])\n",
    "            race['start_number'].append(athlete['start_num'])\n",
    "            race['swim'].append(athlete['splits'][0])\n",
    "            race['t1'].append(athlete['splits'][1])\n",
    "            race['bike'].append(athlete['splits'][2])\n",
    "            race['t2'].append(athlete['splits'][3])\n",
    "            race['run'].append(athlete['splits'][4])\n",
    "            race['position'].append(athlete['position'])\n",
    "            race['total_time'].append(athlete['total_time'])\n",
    "\n",
    "            \n",
    "        race_df = pd.DataFrame(race)\n",
    "        race_list.append(race_df)"
   ]
  },
  {
   "cell_type": "markdown",
   "metadata": {},
   "source": [
    "__Write the mens 2010 races to file__"
   ]
  },
  {
   "cell_type": "code",
   "execution_count": 15,
   "metadata": {},
   "outputs": [],
   "source": [
    "race_list[1].to_csv(\"2010_races/races/Sydney_men.csv\", index = False )\n",
    "race_list[3].to_csv(\"2010_races/races/Seoul_men.csv\", index = False )\n",
    "race_list[5].to_csv(\"2010_races/races/Madrid_men.csv\", index = False )\n",
    "race_list[7].to_csv(\"2010_races/races/Hamburg_men.csv\", index = False )\n",
    "race_list[9].to_csv(\"2010_races/races/London_men.csv\", index = False )\n",
    "race_list[11].to_csv(\"2010_races/races/Kitz_men.csv\", index = False )\n",
    "race_list[13].to_csv(\"2010_races/races/Budapest_men.csv\", index = False )"
   ]
  }
 ],
 "metadata": {
  "kernelspec": {
   "display_name": "Python 3",
   "language": "python",
   "name": "python3"
  },
  "language_info": {
   "codemirror_mode": {
    "name": "ipython",
    "version": 3
   },
   "file_extension": ".py",
   "mimetype": "text/x-python",
   "name": "python",
   "nbconvert_exporter": "python",
   "pygments_lexer": "ipython3",
   "version": "3.6.9"
  }
 },
 "nbformat": 4,
 "nbformat_minor": 4
}
