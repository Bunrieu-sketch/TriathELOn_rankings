{
 "cells": [
  {
   "cell_type": "markdown",
   "metadata": {},
   "source": [
    "# Data cleaning (2010) notebook"
   ]
  },
  {
   "cell_type": "code",
   "execution_count": 2,
   "metadata": {},
   "outputs": [
    {
     "name": "stderr",
     "output_type": "stream",
     "text": [
      "\n",
      "Attaching package: ‘janitor’\n",
      "\n",
      "\n",
      "The following objects are masked from ‘package:stats’:\n",
      "\n",
      "    chisq.test, fisher.test\n",
      "\n",
      "\n",
      "\n",
      "Attaching package: ‘lubridate’\n",
      "\n",
      "\n",
      "The following object is masked from ‘package:base’:\n",
      "\n",
      "    date\n",
      "\n",
      "\n"
     ]
    }
   ],
   "source": [
    "options(tidyverse.quiet = TRUE)\n",
    "library(tidyverse)\n",
    "library(janitor)\n",
    "library(lubridate)\n",
    "source(\"../src/utils.R\")"
   ]
  },
  {
   "cell_type": "code",
   "execution_count": 8,
   "metadata": {},
   "outputs": [
    {
     "name": "stderr",
     "output_type": "stream",
     "text": [
      "Warning message in .parse_hms(..., order = \"HMS\", quiet = quiet):\n",
      "“Some strings failed to parse, or all strings are NAs”\n",
      "Warning message in .parse_hms(..., order = \"HMS\", quiet = quiet):\n",
      "“Some strings failed to parse, or all strings are NAs”\n",
      "Warning message in .parse_hms(..., order = \"HMS\", quiet = quiet):\n",
      "“Some strings failed to parse, or all strings are NAs”\n",
      "Warning message in .parse_hms(..., order = \"HMS\", quiet = quiet):\n",
      "“Some strings failed to parse, or all strings are NAs”\n",
      "Warning message in .parse_hms(..., order = \"HMS\", quiet = quiet):\n",
      "“Some strings failed to parse, or all strings are NAs”\n",
      "Warning message in .parse_hms(..., order = \"HMS\", quiet = quiet):\n",
      "“Some strings failed to parse, or all strings are NAs”\n",
      "Warning message in .parse_hms(..., order = \"HMS\", quiet = quiet):\n",
      "“Some strings failed to parse, or all strings are NAs”\n",
      "Warning message in .parse_hms(..., order = \"HMS\", quiet = quiet):\n",
      "“Some strings failed to parse, or all strings are NAs”\n",
      "Warning message in .parse_hms(..., order = \"HMS\", quiet = quiet):\n",
      "“Some strings failed to parse, or all strings are NAs”\n",
      "Warning message in .parse_hms(..., order = \"HMS\", quiet = quiet):\n",
      "“Some strings failed to parse, or all strings are NAs”\n",
      "Warning message in .parse_hms(..., order = \"HMS\", quiet = quiet):\n",
      "“Some strings failed to parse, or all strings are NAs”\n",
      "Warning message in .parse_hms(..., order = \"HMS\", quiet = quiet):\n",
      "“Some strings failed to parse, or all strings are NAs”\n",
      "Warning message in .parse_hms(..., order = \"HMS\", quiet = quiet):\n",
      "“Some strings failed to parse, or all strings are NAs”\n",
      "Warning message in .parse_hms(..., order = \"HMS\", quiet = quiet):\n",
      "“Some strings failed to parse, or all strings are NAs”\n",
      "Warning message in .parse_hms(..., order = \"HMS\", quiet = quiet):\n",
      "“Some strings failed to parse, or all strings are NAs”\n",
      "Warning message in .parse_hms(..., order = \"HMS\", quiet = quiet):\n",
      "“Some strings failed to parse, or all strings are NAs”\n",
      "Warning message in .parse_hms(..., order = \"HMS\", quiet = quiet):\n",
      "“Some strings failed to parse, or all strings are NAs”\n",
      "Warning message in .parse_hms(..., order = \"HMS\", quiet = quiet):\n",
      "“Some strings failed to parse, or all strings are NAs”\n",
      "Warning message in .parse_hms(..., order = \"HMS\", quiet = quiet):\n",
      "“Some strings failed to parse, or all strings are NAs”\n",
      "Warning message in .parse_hms(..., order = \"HMS\", quiet = quiet):\n",
      "“Some strings failed to parse, or all strings are NAs”\n",
      "Warning message in .parse_hms(..., order = \"HMS\", quiet = quiet):\n",
      "“Some strings failed to parse, or all strings are NAs”\n",
      "Warning message in .parse_hms(..., order = \"HMS\", quiet = quiet):\n",
      "“Some strings failed to parse, or all strings are NAs”\n",
      "Warning message in .parse_hms(..., order = \"HMS\", quiet = quiet):\n",
      "“Some strings failed to parse, or all strings are NAs”\n",
      "Warning message in .parse_hms(..., order = \"HMS\", quiet = quiet):\n",
      "“Some strings failed to parse, or all strings are NAs”\n",
      "Warning message in .parse_hms(..., order = \"HMS\", quiet = quiet):\n",
      "“Some strings failed to parse, or all strings are NAs”\n",
      "Warning message in .parse_hms(..., order = \"HMS\", quiet = quiet):\n",
      "“Some strings failed to parse, or all strings are NAs”\n",
      "Warning message in .parse_hms(..., order = \"HMS\", quiet = quiet):\n",
      "“Some strings failed to parse, or all strings are NAs”\n",
      "Warning message in .parse_hms(..., order = \"HMS\", quiet = quiet):\n",
      "“Some strings failed to parse, or all strings are NAs”\n",
      "Warning message in .parse_hms(..., order = \"HMS\", quiet = quiet):\n",
      "“Some strings failed to parse, or all strings are NAs”\n",
      "Warning message in .parse_hms(..., order = \"HMS\", quiet = quiet):\n",
      "“Some strings failed to parse, or all strings are NAs”\n",
      "Warning message in .parse_hms(..., order = \"HMS\", quiet = quiet):\n",
      "“Some strings failed to parse, or all strings are NAs”\n",
      "Warning message in .parse_hms(..., order = \"HMS\", quiet = quiet):\n",
      "“Some strings failed to parse, or all strings are NAs”\n",
      "Warning message in .parse_hms(..., order = \"HMS\", quiet = quiet):\n",
      "“Some strings failed to parse, or all strings are NAs”\n",
      "Warning message in .parse_hms(..., order = \"HMS\", quiet = quiet):\n",
      "“Some strings failed to parse, or all strings are NAs”\n",
      "Warning message in .parse_hms(..., order = \"HMS\", quiet = quiet):\n",
      "“Some strings failed to parse, or all strings are NAs”\n",
      "Warning message in .parse_hms(..., order = \"HMS\", quiet = quiet):\n",
      "“Some strings failed to parse, or all strings are NAs”\n",
      "Warning message in .parse_hms(..., order = \"HMS\", quiet = quiet):\n",
      "“Some strings failed to parse, or all strings are NAs”\n",
      "Warning message in .parse_hms(..., order = \"HMS\", quiet = quiet):\n",
      "“Some strings failed to parse, or all strings are NAs”\n",
      "Warning message in .parse_hms(..., order = \"HMS\", quiet = quiet):\n",
      "“Some strings failed to parse, or all strings are NAs”\n",
      "Warning message in .parse_hms(..., order = \"HMS\", quiet = quiet):\n",
      "“Some strings failed to parse, or all strings are NAs”\n",
      "Warning message in .parse_hms(..., order = \"HMS\", quiet = quiet):\n",
      "“Some strings failed to parse, or all strings are NAs”\n",
      "Warning message in .parse_hms(..., order = \"HMS\", quiet = quiet):\n",
      "“Some strings failed to parse, or all strings are NAs”\n"
     ]
    }
   ],
   "source": [
    "# Sydney\n",
    "syd_10 <- read_csv(\"2010_races/races/Sydney_men.csv\", col_types = cols()) %>% clean_df()\n",
    "\n",
    "# Seoul\n",
    "sl_10 <- read_csv(\"2010_races/races/Seoul_men.csv\", col_types = cols()) %>% clean_df()\n",
    "\n",
    "# Madrid\n",
    "md_10 <- read_csv(\"2010_races/races/Madrid_men.csv\", col_types = cols()) %>% clean_df()\n",
    "\n",
    "# Hamburg\n",
    "hb_10 <- read_csv(\"2010_races/races/Hamburg_men.csv\", col_types = cols()) %>% clean_df()\n",
    "\n",
    "# London\n",
    "ld_10 <- read_csv(\"2010_races/races/London_men.csv\", col_types = cols()) %>% clean_df()\n",
    "\n",
    "# Kitz\n",
    "kz_10 <- read_csv(\"2010_races/races/Kitz_men.csv\", col_types = cols()) %>% clean_df()\n",
    "\n",
    "# Budapest\n",
    "bd_10 <- read_csv(\"2010_races/races/Budapest_men.csv\", col_types = cols()) %>% clean_df()"
   ]
  },
  {
   "cell_type": "markdown",
   "metadata": {},
   "source": [
    "### As in 2009, need a dataframe of One vs One results for each competitor pair\n",
    "Making the assumption of a _6 period_ break for the break between 2009 WTS and 2010 WTS"
   ]
  },
  {
   "cell_type": "code",
   "execution_count": 9,
   "metadata": {},
   "outputs": [],
   "source": [
    "sd_mens_ovo <- results_df_wrapper(syd_10, 14)\n",
    "sl_mens_ovo <- results_df_wrapper(sl_10, 15)\n",
    "md_mens_ovo <- results_df_wrapper(md_10, 16)\n",
    "hb_mens_ovo <- results_df_wrapper(hb_10, 17)\n",
    "ld_mens_ovo <- results_df_wrapper(ld_10, 18)\n",
    "kz_mens_ovo <- results_df_wrapper(kz_10, 19)\n",
    "bd_mens_ovo <- results_df_wrapper(bd_10, 20)"
   ]
  },
  {
   "cell_type": "markdown",
   "metadata": {},
   "source": [
    "__Write the _one vs one_ race results to file__"
   ]
  },
  {
   "cell_type": "code",
   "execution_count": 10,
   "metadata": {},
   "outputs": [],
   "source": [
    "## write to file\n",
    "write_csv(syd_10, \"2010_races/races/Sydney_men.csv\")\n",
    "write_csv(sl_10, \"2010_races/races/Seoul_men.csv\")\n",
    "write_csv(md_10, \"2010_races/races/Madrid_men.csv\")\n",
    "write_csv(hb_10, \"2010_races/races/Hamburg_men.csv\")\n",
    "write_csv(ld_10, \"2010_races/races/London_men.csv\")\n",
    "write_csv(kz_10, \"2010_races/races/Kitz_men.csv\")\n",
    "write_csv(bd_10, \"2010_races/races/Budapest_men.csv\")\n",
    "write_csv(sd_mens_ovo, \"2010_races/ovo_races/Sydney_men.csv\")\n",
    "write_csv(sl_mens_ovo, \"2010_races/ovo_races/Seoul_men.csv\")\n",
    "write_csv(md_mens_ovo, \"2010_races/ovo_races/Madrid_men.csv\")\n",
    "write_csv(hb_mens_ovo, \"2010_races/ovo_races/Hamburg_men.csv\")\n",
    "write_csv(ld_mens_ovo, \"2010_races/ovo_races/London_men.csv\")\n",
    "write_csv(kz_mens_ovo, \"2010_races/ovo_races/Kitz_men.csv\")\n",
    "write_csv(bd_mens_ovo, \"2010_races/ovo_races/Budapest_men.csv\")"
   ]
  }
 ],
 "metadata": {
  "kernelspec": {
   "display_name": "R",
   "language": "R",
   "name": "ir"
  },
  "language_info": {
   "codemirror_mode": "r",
   "file_extension": ".r",
   "mimetype": "text/x-r-source",
   "name": "R",
   "pygments_lexer": "r",
   "version": "3.6.1"
  }
 },
 "nbformat": 4,
 "nbformat_minor": 4
}
