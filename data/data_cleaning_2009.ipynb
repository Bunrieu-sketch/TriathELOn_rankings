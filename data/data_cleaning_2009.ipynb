{
 "cells": [
  {
   "cell_type": "markdown",
   "metadata": {},
   "source": [
    "## Data cleaning (2009) notebook"
   ]
  },
  {
   "cell_type": "code",
   "execution_count": 26,
   "metadata": {},
   "outputs": [],
   "source": [
    "options(tidyverse.quiet = TRUE)\n",
    "library(tidyverse)\n",
    "library(janitor)\n",
    "library(lubridate)\n",
    "source(\"src/utils.R\")"
   ]
  },
  {
   "cell_type": "code",
   "execution_count": 27,
   "metadata": {},
   "outputs": [],
   "source": [
    "# read in downloaded data from triathlon.org"
   ]
  },
  {
   "cell_type": "code",
   "execution_count": 28,
   "metadata": {},
   "outputs": [],
   "source": [
    "# Tongyeong\n",
    "ty_df = read_csv(\"data/original_data/2009_tongyeong.csv\", col_types = cols())\n",
    "ty_df <- clean_df(ty_df)\n",
    "mens_ty <- ty_df %>%\n",
    "            filter(prog_id != 4520)\n",
    "womens_ty <- ty_df %>%\n",
    "            filter(prog_id == 4520)\n",
    "\n",
    "# Madrid\n",
    "md_df <- read_csv(\"data/original_data/2009_madrid.csv\", col_types = cols())\n",
    "md_df <- clean_df(md_df)\n",
    "mens_md <- md_df %>%\n",
    "             filter(prog_id == 4538)\n",
    "womens_md <- md_df %>%\n",
    "             filter(prog_id != 4538)\n",
    "\n",
    "# Washington\n",
    "ws_df <- read_csv(\"data/original_data/2009_washington.csv\", col_types = cols())\n",
    "ws_df <- clean_df(ws_df)\n",
    "mens_ws <- ws_df %>%\n",
    "             filter(prog_id == 4535)\n",
    "womens_ws <- ws_df %>%\n",
    "             filter(prog_id != 4535)\n",
    "\n",
    "# Kitzbuehel\n",
    "kz_df <- read_csv(\"data/original_data/2009_kitz.csv\", col_types = cols())\n",
    "kz_df <- clean_df(kz_df)\n",
    "mens_kz<- kz_df %>%\n",
    "             filter(prog_id == 4544)\n",
    "womens_kz <- kz_df %>%\n",
    "             filter(prog_id != 4544)\n",
    "\n",
    "# Hamburg\n",
    "hb_df <- read_csv(\"data/original_data/2009_hamburg.csv\", col_types = cols())\n",
    "hb_df <- clean_df(hb_df)\n",
    "mens_hb<- hb_df %>%\n",
    "             filter(prog_id == 4547)\n",
    "womens_hb <- hb_df %>%\n",
    "             filter(prog_id != 4547)\n",
    "\n",
    "# London\n",
    "ld_df <- read_csv(\"data/original_data/2009_london.csv\", col_types = cols())\n",
    "ld_df <- clean_df(ld_df)\n",
    "mens_ld<- ld_df %>%\n",
    "             filter(prog_id == 4541)\n",
    "womens_ld <- ld_df %>%\n",
    "             filter(prog_id != 4541)\n",
    "\n",
    "# Yokohama\n",
    "yk_df <- read_csv(\"data/original_data/2009_yokohama.csv\", col_types = cols())\n",
    "yk_df <- clean_df(yk_df)\n",
    "mens_yk<- yk_df %>%\n",
    "             filter(prog_id == 4532)\n",
    "womens_yk <- yk_df %>%\n",
    "             filter(prog_id != 4532)\n",
    "\n",
    "\n",
    "# Gold Coast\n",
    "gc_df <- read_csv(\"data/original_data/2009_gold-coast.csv\", col_types = cols())\n",
    "gc_df <- clean_df(gc_df)\n",
    "mens_gc <- gc_df %>%\n",
    "                filter(prog_id == 4819)\n",
    "womens_gc <- gc_df %>%\n",
    "                filter(prog_id == 4818)\n"
   ]
  },
  {
   "cell_type": "markdown",
   "metadata": {},
   "source": [
    "## write clean 2009 race files to csv "
   ]
  },
  {
   "cell_type": "markdown",
   "metadata": {},
   "source": [
    "__Men's races__"
   ]
  },
  {
   "cell_type": "code",
   "execution_count": 20,
   "metadata": {},
   "outputs": [],
   "source": [
    "write_csv(mens_ty, \"data/2009_races/races/Tongyeong_men.csv\")\n",
    "write_csv(mens_md, \"data/2009_races/races/Madrid_men.csv\")\n",
    "write_csv(mens_ws, \"data/2009_races/races/Washington_men.csv\")\n",
    "write_csv(mens_kz, \"data/2009_races/races/Kitz_men.csv\")\n",
    "write_csv(mens_hb, \"data/2009_races/races/Hamburg_men.csv\")\n",
    "write_csv(mens_ld, \"data/2009_races/races/London_men.csv\")\n",
    "write_csv(mens_yk, \"data/2009_races/races/Yokohama_men.csv\")\n",
    "write_csv(mens_gc, \"data/2009_races/races/Gold-coast_men.csv\")"
   ]
  },
  {
   "cell_type": "markdown",
   "metadata": {},
   "source": [
    "__Women's races__"
   ]
  },
  {
   "cell_type": "code",
   "execution_count": 18,
   "metadata": {},
   "outputs": [],
   "source": [
    "write_csv(womens_ty, \"data/2009_races/races/Tongyeong_women.csv\")\n",
    "write_csv(womens_md, \"data/2009_races/races/Madrid_women.csv\")\n",
    "write_csv(womens_ws, \"data/2009_races/races/Washington_women.csv\")\n",
    "write_csv(womens_kz, \"data/2009_races/races/Kitz_women.csv\")\n",
    "write_csv(womens_hb, \"data/2009_races/races/Hamburg_women.csv\")\n",
    "write_csv(womens_ld, \"data/2009_races/races/London_women.csv\")\n",
    "write_csv(womens_yk, \"data/2009_races/races/Yokohama_women.csv\")\n",
    "write_csv(womens_gc, \"data/2009_races/races/Gold-coast_women.csv\")"
   ]
  },
  {
   "cell_type": "markdown",
   "metadata": {},
   "source": [
    "### Create one vs one race results\n",
    "In order to use the `glicko` rankings system, each $n$-person race needs to be transformed into a dataframe where the outcomes of individual one on one races between each individual $i$ and the other $n-1$ competitors. <br>\n",
    "The `period` of each race also needs to be included in this one vs one dataframe, as competitors who do not race for longer periods of time will have greater uncertainty around their rankings."
   ]
  },
  {
   "cell_type": "markdown",
   "metadata": {},
   "source": [
    "#### One vs one race results for mens 2009 races\n",
    "Using function in `utils.R`"
   ]
  },
  {
   "cell_type": "code",
   "execution_count": 21,
   "metadata": {},
   "outputs": [],
   "source": [
    "ty_mens_ovo <- results_df_wrapper(mens_ty, 1)\n",
    "md_mens_ovo <- results_df_wrapper(mens_md, 2)\n",
    "ws_mens_ovo <- results_df_wrapper(mens_ws, 3)\n",
    "kz_mens_ovo <- results_df_wrapper(mens_kz, 4)\n",
    "hb_mens_ovo <- results_df_wrapper(mens_hb, 5)\n",
    "ld_mens_ovo <- results_df_wrapper(mens_ld, 6)\n",
    "yk_mens_ovo <- results_df_wrapper(mens_yk, 7)\n",
    "gc_mens_ovo <- results_df_wrapper(mens_gc, 8)"
   ]
  },
  {
   "cell_type": "code",
   "execution_count": 25,
   "metadata": {},
   "outputs": [],
   "source": [
    "## write to file\n",
    "write_csv(ty_mens_ovo, \"data/2009_races/ovo_races/Tongyeong_men.csv\")\n",
    "write_csv(md_mens_ovo, \"data/2009_races/ovo_races/Madrid_men.csv\")\n",
    "write_csv(ws_mens_ovo, \"data/2009_races/ovo_races/Washington_men.csv\")\n",
    "write_csv(kz_mens_ovo, \"data/2009_races/ovo_races/Kitz_men.csv\")\n",
    "write_csv(hb_mens_ovo, \"data/2009_races/ovo_races/Hamburg_men.csv\")\n",
    "write_csv(ld_mens_ovo, \"data/2009_races/ovo_races/London_men.csv\")\n",
    "write_csv(yk_mens_ovo, \"data/2009_races/ovo_races/Yokohama_men.csv\")\n",
    "write_csv(gc_mens_ovo, \"data/2009_races/ovo_races/Gold-coast_men.csv\")"
   ]
  },
  {
   "cell_type": "code",
   "execution_count": null,
   "metadata": {},
   "outputs": [],
   "source": []
  }
 ],
 "metadata": {
  "kernelspec": {
   "display_name": "R",
   "language": "R",
   "name": "ir"
  },
  "language_info": {
   "codemirror_mode": "r",
   "file_extension": ".r",
   "mimetype": "text/x-r-source",
   "name": "R",
   "pygments_lexer": "r",
   "version": "3.6.1"
  }
 },
 "nbformat": 4,
 "nbformat_minor": 4
}
